{
 "cells": [
  {
   "cell_type": "code",
   "execution_count": 1,
   "id": "02f27f86",
   "metadata": {},
   "outputs": [
    {
     "name": "stdout",
     "output_type": "stream",
     "text": [
      "Requirement already satisfied: gTTS in c:\\users\\haier\\anaconda3\\lib\\site-packages (2.2.4)\n",
      "Requirement already satisfied: click in c:\\users\\haier\\anaconda3\\lib\\site-packages (from gTTS) (8.0.4)\n",
      "Requirement already satisfied: six in c:\\users\\haier\\anaconda3\\lib\\site-packages (from gTTS) (1.16.0)\n",
      "Requirement already satisfied: requests in c:\\users\\haier\\anaconda3\\lib\\site-packages (from gTTS) (2.27.1)\n",
      "Requirement already satisfied: colorama in c:\\users\\haier\\anaconda3\\lib\\site-packages (from click->gTTS) (0.4.4)\n",
      "Requirement already satisfied: certifi>=2017.4.17 in c:\\users\\haier\\anaconda3\\lib\\site-packages (from requests->gTTS) (2021.10.8)\n",
      "Requirement already satisfied: urllib3<1.27,>=1.21.1 in c:\\users\\haier\\anaconda3\\lib\\site-packages (from requests->gTTS) (1.26.9)Note: you may need to restart the kernel to use updated packages.\n",
      "\n",
      "Requirement already satisfied: charset-normalizer~=2.0.0 in c:\\users\\haier\\anaconda3\\lib\\site-packages (from requests->gTTS) (2.0.4)\n",
      "Requirement already satisfied: idna<4,>=2.5 in c:\\users\\haier\\anaconda3\\lib\\site-packages (from requests->gTTS) (3.3)\n"
     ]
    }
   ],
   "source": [
    "pip install gTTS"
   ]
  },
  {
   "cell_type": "code",
   "execution_count": 2,
   "id": "2ec23138",
   "metadata": {},
   "outputs": [],
   "source": [
    "from gtts import gTTS"
   ]
  },
  {
   "cell_type": "code",
   "execution_count": 3,
   "id": "efe13ad3",
   "metadata": {},
   "outputs": [
    {
     "name": "stdout",
     "output_type": "stream",
     "text": [
      "Requirement already satisfied: playsound in c:\\users\\haier\\anaconda3\\lib\\site-packages (1.3.0)\n",
      "Note: you may need to restart the kernel to use updated packages.\n"
     ]
    }
   ],
   "source": [
    "pip install playsound"
   ]
  },
  {
   "cell_type": "code",
   "execution_count": 4,
   "id": "c6c4ef69",
   "metadata": {},
   "outputs": [],
   "source": [
    "from playsound import playsound"
   ]
  },
  {
   "cell_type": "code",
   "execution_count": 5,
   "id": "cb45e8df",
   "metadata": {},
   "outputs": [],
   "source": [
    "import os"
   ]
  },
  {
   "cell_type": "code",
   "execution_count": null,
   "id": "7b77013b",
   "metadata": {},
   "outputs": [
    {
     "name": "stdout",
     "output_type": "stream",
     "text": [
      "کیسی کہانی ہے،امی!“قریب کھڑی فروہ نے بڑے اشتیاق سے پوچھا۔ ”اُف فروہ!حد ہے،اردو میں ایسے کہانیاں نہیں لکھتے۔ہمیں جہاں تک ہو سکے اردو کے الفاظ استعمال کرنے چاہیے۔تم نے تو اس میں زبردستی انگریزی گھسا دی ہے،حالانکہ یہ تو بہت عام ہے کہ چائلڈ کے بجائے اردو میں بچہ لکھتے ہیں،اسی طرح ہیبٹس کے بجائے عادات یا عادتیں۔ سیون کی جگہ ساتویں یا ہفتم اور پیرنٹس،ٹیچرز،فرسٹ اور ہیپی کی جگہ والدین،اساتذہ،اول اور خوش آنا چاہیے۔امی نے ضبط سے کام لیتے ہوئے سمجھایا۔“ ”وہ امی،دراصل مجھے آج کل انگریزی سیکھنے کا شوق ہو رہا ہے،اسی لئے میں انگریزی کے الفاظ یوز کرتی ہوں کہ میری انگریزی اچھی ہو جائے اور مجھے انگریزی کے الفاظ بھی یاد ہو جائیں۔  “فروہ نے جو یوں اپنی کہانی کا پوسٹ مارٹم ہوتے دیکھا تو گڑبڑا کر وضاحت پیش کی۔فروہ کا بھائی فائز بھی امی کے پیچھے کھڑا ہو کر کہانی پڑھ چکا تھا اور اب اس کی ہنسی فروہ کو چڑا رہی تھی۔ ”یوں بولو کہ آج کل تم پہ انگریزی کا بھوت سوار ہے۔ “فائز ہنس کر بولا۔فی الحال فروہ نے فائز کو گھورنے پر اکتفا کیا۔\n"
     ]
    }
   ],
   "source": [
    "fileRead = open('story.txt', encoding='utf-8').read().replace(\"\\n\", \" \")\n",
    "print(fileRead)\n",
    "speech = gTTS(text = str(fileRead),lang='ur')\n",
    "speech.save(\"story.mp3\")\n",
    "playsound(\"story.mp3\",True)"
   ]
  },
  {
   "cell_type": "code",
   "execution_count": null,
   "id": "5e268c75",
   "metadata": {},
   "outputs": [],
   "source": []
  }
 ],
 "metadata": {
  "kernelspec": {
   "display_name": "Python 3 (ipykernel)",
   "language": "python",
   "name": "python3"
  },
  "language_info": {
   "codemirror_mode": {
    "name": "ipython",
    "version": 3
   },
   "file_extension": ".py",
   "mimetype": "text/x-python",
   "name": "python",
   "nbconvert_exporter": "python",
   "pygments_lexer": "ipython3",
   "version": "3.9.12"
  }
 },
 "nbformat": 4,
 "nbformat_minor": 5
}
